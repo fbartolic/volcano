{
 "cells": [
  {
   "cell_type": "code",
   "execution_count": null,
   "metadata": {},
   "outputs": [],
   "source": [
    "import numpy as np\n",
    "import sys\n",
    "import os\n",
    "import pickle as pkl\n",
    "\n",
    "from astropy import units as u\n",
    "from astropy.time import Time\n",
    "from astropy.table import vstack\n",
    "\n",
    "import starry\n",
    "\n",
    "sys.path.append(\"../volcano\")\n",
    "from utils import get_body_ephemeris\n",
    "\n",
    "np.random.seed(42)\n",
    "\n",
    "starry.config.lazy = False\n",
    "starry.config.quiet = True"
   ]
  },
  {
   "cell_type": "code",
   "execution_count": null,
   "metadata": {},
   "outputs": [],
   "source": [
    "%matplotlib inline\n",
    "%run notebook_setup.py"
   ]
  },
  {
   "cell_type": "code",
   "execution_count": null,
   "metadata": {},
   "outputs": [],
   "source": [
    "# Create a Starry map and place the two volcanos on the surface of Io\n",
    "ydeg = 30\n",
    "map = starry.Map(ydeg)\n",
    "\n",
    "map.add_spot(amp=1e-01, sigma=0.02, lat=-12.0, lon=340)\n",
    "map.add_spot(amp=1e-02, sigma=0.02, lat=20.5, lon=60.0)\n",
    "\n",
    "fig, ax = plt.subplots(figsize=(8, 4))\n",
    "map.show(ax=ax, projection=\"rect\")"
   ]
  },
  {
   "cell_type": "code",
   "execution_count": null,
   "metadata": {},
   "outputs": [],
   "source": [
    "# Pick some random observation times in a 1yr period\n",
    "start = Time(\"2019-01-01\", format=\"isot\")\n",
    "stop = Time(\"2020-01-01\", format=\"isot\")\n",
    "start_times = np.sort(np.random.uniform(start.mjd, stop.mjd, 100))\n",
    "\n",
    "eph_list_io = []\n",
    "eph_list_jupiter = []\n",
    "\n",
    "for i, t in enumerate(start_times):\n",
    "    # Assume observations in a 2 day range\n",
    "    delta_t = 1.0  # interval [days]\n",
    "    npts = delta_t * 24 * 60 * 30  # 2 sec cadence\n",
    "    times = Time(np.linspace(t, t + delta_t, int(npts)), format=\"mjd\")\n",
    "\n",
    "    # Compute ephemeris\n",
    "    eph_io = get_body_ephemeris(\n",
    "        times, body_id=\"501\", step=\"1m\", return_orientation=True\n",
    "    )\n",
    "    eph_jup = get_body_ephemeris(\n",
    "        times, body_id=\"599\", step=\"1m\", return_orientation=False\n",
    "    )\n",
    "\n",
    "    eph_list_io.append(eph_io)\n",
    "    eph_list_jupiter.append(eph_jup)"
   ]
  },
  {
   "cell_type": "code",
   "execution_count": null,
   "metadata": {},
   "outputs": [],
   "source": [
    "# Save useful data\n",
    "map_imgs = []  # map in pixel space for visualization later\n",
    "coeff_list = []  # save SH coeff_list for each lightcurve\n",
    "amps_list = []  # map amplitudes\n",
    "A_list = []  # design matrix for each lihgtcurve\n",
    "amp_spot1 = []  # spot 1 amplitude for each lightcurve\n",
    "amp_spot2 = []\n",
    "t_spot = []  # times at which the spot amplitudes were evaluated\n",
    "lcs_true = []  # modeled flux\n",
    "times_list = []  # observation times\n",
    "\n",
    "# Periodicities of the spots\n",
    "P1 = 23.0  # days\n",
    "P2 = 67.0\n",
    "\n",
    "# Iterate over lightcurves\n",
    "for i in range(len(eph_list_io)):\n",
    "    eph_io = eph_list_io[i]\n",
    "    eph_jup = eph_list_jupiter[i]\n",
    "\n",
    "    # Convert everything to units where the radius of Io = 1\n",
    "    radius_jup = eph_jup[\"ang_width\"] / eph_io[\"ang_width\"]\n",
    "    rel_ra = (eph_jup[\"RA\"] - eph_io[\"RA\"]).to(u.arcsec) / (\n",
    "        0.5 * eph_io[\"ang_width\"].to(u.arcsec)\n",
    "    )\n",
    "    rel_dec = (eph_jup[\"DEC\"] - eph_io[\"DEC\"]).to(u.arcsec) / (\n",
    "        0.5 * eph_io[\"ang_width\"].to(u.arcsec)\n",
    "    )\n",
    "\n",
    "    obl = np.array(eph_io[\"obl\"])\n",
    "    inc = np.array(eph_io[\"inc\"])\n",
    "    theta = np.array(eph_io[\"theta\"])\n",
    "    xo = np.array(-rel_ra)\n",
    "    yo = np.array(rel_dec)\n",
    "    zo = np.ones(len(yo))\n",
    "    ro = np.array(radius_jup)\n",
    "\n",
    "    # Get only the times when Jupiter is occulting Io in eclipse or Io\n",
    "    # is in eclipse\n",
    "    mask1 = np.any([eph_io[\"occ_umbra\"], eph_io[\"ecl_tot\"]], axis=0)\n",
    "    mask2 = np.sqrt(xo ** 2 + yo ** 2) < (\n",
    "        1 + 0.9 * ro\n",
    "    )  # avoid times when Io is behind Jupiter\n",
    "\n",
    "    mask = np.all([mask1, ~mask2], axis=0)\n",
    "\n",
    "    eph_io = eph_io[mask]\n",
    "    eph_jup = eph_jup[mask]\n",
    "\n",
    "    # Initialize map\n",
    "    map.reset()\n",
    "\n",
    "    # Time dependent amplitudes of the spots\n",
    "    t = np.mean(eph_io.time.mjd)\n",
    "\n",
    "    a1 = 0.01 + 1e-02 * np.sin(t / P1)\n",
    "    a2 = 0.01 + 1e-02 * np.cos(t / P2)\n",
    "\n",
    "    map.add_spot(amp=a1, sigma=0.01, lat=-12.0, lon=340)\n",
    "    map.add_spot(amp=a2, sigma=0.01, lat=20, lon=40.0)\n",
    "\n",
    "    # Fix obliquity and inclination for given lc\n",
    "    map.inc = np.mean(inc[mask])\n",
    "    map.obl = np.mean(obl[mask])\n",
    "    ro = np.mean(ro[mask])\n",
    "\n",
    "    # Compute flux\n",
    "    if mask.sum() > 0:\n",
    "        flux = map.flux(xo=xo[mask], yo=yo[mask], zo=1.0, ro=ro, theta=theta[mask])\n",
    "    else:\n",
    "        flux = 0.0\n",
    "\n",
    "    if np.any(np.all([flux > 0, flux < 0.8], axis=0)):\n",
    "\n",
    "        # Save lightcurve, map coefficients, amplitudes and the design matrix\n",
    "        coeff_list.append(map.y)\n",
    "        amps_list.append(map.amp)\n",
    "        A_list.append(\n",
    "            map.design_matrix(\n",
    "                xo=xo[mask], yo=yo[mask], zo=1.0, ro=ro, theta=theta[mask]\n",
    "            )\n",
    "        )\n",
    "        lcs_true.append(flux)\n",
    "\n",
    "        # Observation times\n",
    "        times_list.append(eph_io.time.mjd)\n",
    "\n",
    "        # Save spot data\n",
    "        amp_spot1.append(a1)\n",
    "        amp_spot2.append(a2)\n",
    "        t_spot.append(t)\n",
    "\n",
    "        # Save some images for visualization\n",
    "        map_ = map.render(theta=theta[mask][::50])\n",
    "        map_imgs.append(map_)"
   ]
  },
  {
   "cell_type": "code",
   "execution_count": null,
   "metadata": {},
   "outputs": [],
   "source": [
    "# Plot flux\n",
    "fig, ax = plt.subplots(figsize=(15, 4))\n",
    "ax.plot(np.concatenate(lcs_obs), \"C0.\")\n",
    "# ax.set_xlim(0, 10000)"
   ]
  },
  {
   "cell_type": "code",
   "execution_count": null,
   "metadata": {},
   "outputs": [],
   "source": [
    "fig, ax = plt.subplots(figsize=(6, 4))\n",
    "ax.plot(t_spot, amp_spot1, \"C0o\", label=\"spot1\")\n",
    "ax.plot(t_spot, amp_spot2, \"C1o\", label=\"spot2\")\n",
    "ax.grid()\n",
    "ax.legend()\n",
    "\n",
    "np.save(\"t_spot.npy\", np.array(t_spot))\n",
    "np.save(\"spot1_amp.npy\", amp_spot1)\n",
    "np.save(\"spot2_amp.npy\", amp_spot2)"
   ]
  },
  {
   "cell_type": "code",
   "execution_count": null,
   "metadata": {},
   "outputs": [],
   "source": [
    "# Save light curves\n",
    "with open(\"lcs_true.pkl\", \"wb\") as file:\n",
    "    pkl.dump(lcs_true, file)\n",
    "with open(\"times.pkl\", \"wb\") as file:\n",
    "    pkl.dump([times_list - times_list[0][0]], file)\n",
    "\n",
    "# Save the design matrices\n",
    "with open(\"design_matrices.pkl\", \"wb\") as file:\n",
    "    pkl.dump([m[:, :81] for m in A_list], file)"
   ]
  },
  {
   "cell_type": "code",
   "execution_count": null,
   "metadata": {},
   "outputs": [],
   "source": [
    "fig, ax = plt.subplots(figsize=(5, 5))\n",
    "map.obl = 0.0\n",
    "map.show(ax=ax, image=np.concatenate(map_imgs), projection=\"ortho\")"
   ]
  },
  {
   "cell_type": "code",
   "execution_count": null,
   "metadata": {},
   "outputs": [],
   "source": [
    "# Construct an (N, L) matrix of coeff_list, one for each lightcurve\n",
    "Y = np.vstack(coeff_list).T\n",
    "\n",
    "# set Y_00 for each lightcurve\n",
    "Y[0, :] = np.array(amps_list)\n",
    "\n",
    "# Run PCA on the matrix\n",
    "from sklearn.decomposition import PCA\n",
    "\n",
    "n_components = 4\n",
    "pca = PCA(n_components)\n",
    "res = pca.fit(Y.T)\n",
    "res.explained_variance_"
   ]
  },
  {
   "cell_type": "code",
   "execution_count": null,
   "metadata": {},
   "outputs": [],
   "source": [
    "from scipy.linalg import block_diag\n",
    "\n",
    "P = res.components_.T\n",
    "print(np.shape(P))\n",
    "\n",
    "# Save matrices to file\n",
    "np.save(\"true_Y.npy\", Y[:81, :])\n",
    "np.save(\"true_P.npy\", P[:81, :])"
   ]
  },
  {
   "cell_type": "code",
   "execution_count": null,
   "metadata": {},
   "outputs": [],
   "source": [
    "P[0, :]"
   ]
  },
  {
   "cell_type": "code",
   "execution_count": null,
   "metadata": {},
   "outputs": [],
   "source": [
    "fig, ax = plt.subplots(figsize=(5, 5))\n",
    "ax.imshow(Y[:81, :])\n",
    "ax.set_title(\"Matrix of SH coeff_list for each lightcurve (up to order 8)\")"
   ]
  },
  {
   "cell_type": "code",
   "execution_count": null,
   "metadata": {},
   "outputs": [],
   "source": [
    "map = starry.Map(ydeg=ydeg)\n",
    "\n",
    "fig, ax = plt.subplots(n_components, 1, figsize=(12, 18), sharex=True)\n",
    "\n",
    "for i in range(n_components):\n",
    "\n",
    "    map.y[1:] = P[1:, i]\n",
    "    map.amp = P[0, i]\n",
    "\n",
    "    img = map.render(projection=\"rect\")\n",
    "    extent = (-180, 180, -90, 90)\n",
    "    im = ax[i].imshow(img, origin=\"lower\", extent=extent, cmap=\"plasma\")\n",
    "    ax[i].set_yticks([-90, -60, -30, 0, 30, 60, 90])\n",
    "    ax[i].set_xticks([-180, -90, 0, 90, 180])\n",
    "    fig.colorbar(im, ax=ax[i])\n",
    "\n",
    "ax[0].set_title(\"PCA components for the stacked maps (ydeg=30)\")"
   ]
  },
  {
   "cell_type": "code",
   "execution_count": null,
   "metadata": {},
   "outputs": [],
   "source": [
    "# Plot the power spectrum\n",
    "np.shape(Y)"
   ]
  },
  {
   "cell_type": "code",
   "execution_count": null,
   "metadata": {},
   "outputs": [],
   "source": [
    "ps = []\n",
    "\n",
    "idx = 1\n",
    "for l in range(30):\n",
    "    start = int((l + 1) ** 2)\n",
    "    end = start + (2 * l + 1)\n",
    "    ps.append(np.sum(P[start:end, idx] ** 2))\n",
    "\n",
    "fig, ax = plt.subplots(figsize=(8, 4))\n",
    "ax.plot(ps, \"ko-\")\n",
    "ax.set_xlabel(\"l\")\n",
    "ax.grid()\n",
    "ax.set_title(f\"PCA component {idx}\")"
   ]
  },
  {
   "cell_type": "code",
   "execution_count": null,
   "metadata": {},
   "outputs": [],
   "source": []
  }
 ],
 "metadata": {
  "kernelspec": {
   "display_name": "Python [conda env:io]",
   "language": "python",
   "name": "conda-env-io-py"
  },
  "language_info": {
   "codemirror_mode": {
    "name": "ipython",
    "version": 3
   },
   "file_extension": ".py",
   "mimetype": "text/x-python",
   "name": "python",
   "nbconvert_exporter": "python",
   "pygments_lexer": "ipython3",
   "version": "3.6.10"
  }
 },
 "nbformat": 4,
 "nbformat_minor": 4
}
