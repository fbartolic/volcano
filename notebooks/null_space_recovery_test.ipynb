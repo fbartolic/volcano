{
 "cells": [
  {
   "cell_type": "code",
   "execution_count": null,
   "metadata": {},
   "outputs": [],
   "source": [
    "import numpy as np\n",
    "import starry\n",
    "\n",
    "np.random.seed(42)\n",
    "\n",
    "starry.config.lazy = False"
   ]
  },
  {
   "cell_type": "code",
   "execution_count": null,
   "metadata": {},
   "outputs": [],
   "source": [
    "%matplotlib inline\n",
    "%run notebook_setup.py"
   ]
  },
  {
   "cell_type": "code",
   "execution_count": null,
   "metadata": {},
   "outputs": [],
   "source": [
    "# Create a Starry map and place the two volcanos on the surface of Io\n",
    "true_map = starry.Map(ydeg=30, reflected=True)\n",
    "\n",
    "# Surt, Tvashtar Patera, Heno Patera, Loki patera, Pillan patera, Estan patera\n",
    "spot_lats = np.array([41.0, 61.0, -56.0, 13.4, -12.0, 20.5])\n",
    "spot_longs = 360.0 - np.array([340.0, 121.0, 307.2, 308.5, 243.5, 76.2])\n",
    "\n",
    "for i in range(len(spot_lats)):\n",
    "    true_map.add_spot(amp=0.01, sigma=0.01, lat=spot_lats[i], lon=spot_longs[i])"
   ]
  },
  {
   "cell_type": "code",
   "execution_count": null,
   "metadata": {},
   "outputs": [],
   "source": [
    "360 - spot_longs"
   ]
  },
  {
   "cell_type": "code",
   "execution_count": null,
   "metadata": {},
   "outputs": [],
   "source": [
    "fig, ax = plt.subplots(figsize=(12, 6))\n",
    "true_map.show(ax=ax, projection=\"rect\", illuminate=False)"
   ]
  },
  {
   "cell_type": "markdown",
   "metadata": {},
   "source": [
    "## Emitted light phase curves"
   ]
  },
  {
   "cell_type": "code",
   "execution_count": null,
   "metadata": {},
   "outputs": [],
   "source": [
    "# Load design matrix from a previous notebook\n",
    "A_phase_em = np.load(\"design_matrix_phase_em.npy\")\n",
    "np.shape(A_phase_em)"
   ]
  },
  {
   "cell_type": "code",
   "execution_count": null,
   "metadata": {},
   "outputs": [],
   "source": [
    "# Compute model flux\n",
    "flux = A_phase_em @ true_map.y\n",
    "\n",
    "# Add some noise\n",
    "flux_err = np.ones(len(flux)) * 1e-2 * np.std(flux)\n",
    "flux_obs = flux + np.random.normal(0, flux_err, size=(len(flux)))\n",
    "\n",
    "fig, ax = plt.subplots(2, 1, sharex=True)\n",
    "ax[0].plot(flux, \"k.\")\n",
    "ax[1].plot(flux_obs, \"k.\")"
   ]
  },
  {
   "cell_type": "code",
   "execution_count": null,
   "metadata": {},
   "outputs": [],
   "source": [
    "# Priors\n",
    "ydeg = 8\n",
    "map_phase_em = starry.Map(ydeg)\n",
    "ncoeff = int((ydeg + 1) ** 2)\n",
    "\n",
    "mu = np.empty(map_phase_em.Ny)\n",
    "mu[0] = 1\n",
    "mu[1:] = 0\n",
    "L = np.empty(map_phase_em.Ny)\n",
    "L[0] = 1e-1\n",
    "L[1:] = 5e-4\n",
    "map_phase_em.set_prior(L=L)"
   ]
  },
  {
   "cell_type": "code",
   "execution_count": null,
   "metadata": {},
   "outputs": [],
   "source": [
    "%%time \n",
    "map_phase_em.set_prior(L=L)\n",
    "map_phase_em.set_data(flux_obs, C=flux_err**2)\n",
    "x, cho_cov = map_phase_em.solve(design_matrix=A_phase_em[:, :ncoeff])"
   ]
  },
  {
   "cell_type": "code",
   "execution_count": null,
   "metadata": {},
   "outputs": [],
   "source": [
    "map_phase_em.amp = x[0]\n",
    "map_phase_em[1:, :] = x[1:] / x[0]"
   ]
  },
  {
   "cell_type": "code",
   "execution_count": null,
   "metadata": {},
   "outputs": [],
   "source": [
    "def plot_mean_map(ax, map, **kwargs):\n",
    "    \"\"\"\n",
    "    Plots mean map in data space with transparency weighted by inverse\n",
    "    variance.\n",
    "    \"\"\"\n",
    "    minmax = lambda x: (x - np.min(x)) / (np.max(x) - np.min(x))\n",
    "\n",
    "    # Draw samples from posterior\n",
    "    images = []\n",
    "\n",
    "    for i in range(100):\n",
    "        map.draw()  # Draw a posterior sample\n",
    "        img = map.render(projection=\"rect\", **kwargs)\n",
    "        images.append(img)\n",
    "\n",
    "    mean_img = np.mean(images, axis=0)\n",
    "    std_img = np.std(images, axis=0)\n",
    "\n",
    "    inv_var = 1 / std_img ** 2\n",
    "    alpha = minmax(inv_var)\n",
    "\n",
    "    extent = (-180, 180, -90, 90)\n",
    "    ax.imshow(mean_img, origin=\"lower\", extent=extent, cmap=\"plasma\", alpha=alpha)\n",
    "\n",
    "\n",
    "fig, ax = plt.subplots(figsize=(10, 6))\n",
    "\n",
    "plot_mean_map(ax, map_phase_em)\n",
    "\n",
    "ax.set_title(\"Phase curves emitted light\")\n",
    "\n",
    "ax.set_ylabel(\"Lat\")\n",
    "ax.set_yticks([-90, -60, -30, 0, 30, 60, 90])\n",
    "\n",
    "ax.set_xlabel(\"Lon\")\n",
    "ax.set_xticks(np.arange(-180, 210, 30));"
   ]
  },
  {
   "cell_type": "markdown",
   "metadata": {},
   "source": [
    "## Emitted light occultations"
   ]
  },
  {
   "cell_type": "code",
   "execution_count": null,
   "metadata": {},
   "outputs": [],
   "source": [
    "# Load design matrix from a previous notebook\n",
    "A_occ_em = np.load(\"design_matrix_occ_em.npy\")\n",
    "np.shape(A_occ_em)"
   ]
  },
  {
   "cell_type": "code",
   "execution_count": null,
   "metadata": {},
   "outputs": [],
   "source": [
    "# Compute model flux\n",
    "flux = A_occ_em @ true_map.y\n",
    "\n",
    "# Add some noise\n",
    "flux_err = np.ones(len(flux)) * 1e-2 * np.std(flux)\n",
    "flux_obs = flux + np.random.normal(0, flux_err, size=(len(flux)))\n",
    "\n",
    "fig, ax = plt.subplots(2, 1, sharex=True)\n",
    "ax[0].plot(flux, \"k.\")\n",
    "ax[1].plot(flux_obs, \"k.\")"
   ]
  },
  {
   "cell_type": "code",
   "execution_count": null,
   "metadata": {},
   "outputs": [],
   "source": [
    "# Priors\n",
    "ydeg = 8\n",
    "map_occ_em = starry.Map(ydeg)\n",
    "ncoeff = int((ydeg + 1) ** 2)\n",
    "\n",
    "mu = np.empty(map_occ_em.Ny)\n",
    "mu[0] = 1\n",
    "mu[1:] = 0\n",
    "L = np.empty(map_occ_em.Ny)\n",
    "L[0] = 1e-1\n",
    "L[1:] = 5e-4\n",
    "map_occ_em.set_prior(L=L)"
   ]
  },
  {
   "cell_type": "code",
   "execution_count": null,
   "metadata": {},
   "outputs": [],
   "source": [
    "%%time \n",
    "map_occ_em.set_prior(L=L)\n",
    "map_occ_em.set_data(flux_obs, C=flux_err**2)\n",
    "x, cho_cov = map_occ_em.solve(design_matrix=A_occ_em[:, :ncoeff])"
   ]
  },
  {
   "cell_type": "code",
   "execution_count": null,
   "metadata": {},
   "outputs": [],
   "source": [
    "map_occ_em.amp = x[0]\n",
    "map_occ_em[1:, :] = x[1:] / x[0]"
   ]
  },
  {
   "cell_type": "code",
   "execution_count": null,
   "metadata": {},
   "outputs": [],
   "source": [
    "fig, ax = plt.subplots(figsize=(10, 6))\n",
    "\n",
    "plot_mean_map(ax, map_occ_em)\n",
    "\n",
    "ax.set_title(\"Occultations in emitted light\")\n",
    "\n",
    "ax.set_ylabel(\"Lat\")\n",
    "ax.set_yticks([-90, -60, -30, 0, 30, 60, 90])\n",
    "\n",
    "ax.set_xlabel(\"Lon\")\n",
    "ax.set_xticks(np.arange(-180, 210, 30));"
   ]
  },
  {
   "cell_type": "markdown",
   "metadata": {},
   "source": [
    "## Reflected light phase curves"
   ]
  },
  {
   "cell_type": "code",
   "execution_count": null,
   "metadata": {},
   "outputs": [],
   "source": [
    "# Load design matrix from a previous notebook\n",
    "A_phase_ref = np.load(\"design_matrix_phase_ref.npy\")\n",
    "np.shape(A_phase_ref)"
   ]
  },
  {
   "cell_type": "code",
   "execution_count": null,
   "metadata": {},
   "outputs": [],
   "source": [
    "# Compute model flux\n",
    "flux = A_phase_ref @ true_map.y\n",
    "\n",
    "# Add some noise\n",
    "flux_err = np.ones(len(flux)) * 1e-2 * np.std(flux)\n",
    "flux_obs = flux + np.random.normal(0, flux_err, size=(len(flux)))\n",
    "\n",
    "fig, ax = plt.subplots(2, 1, sharex=True)\n",
    "ax[0].plot(flux, \"k.\")\n",
    "ax[1].plot(flux_obs, \"k.\")"
   ]
  },
  {
   "cell_type": "code",
   "execution_count": null,
   "metadata": {},
   "outputs": [],
   "source": [
    "# Priors\n",
    "ydeg = 8\n",
    "map_phase_ref = starry.Map(ydeg, reflected=True)\n",
    "ncoeff = int((ydeg + 1) ** 2)\n",
    "\n",
    "mu = np.empty(map_phase_ref.Ny)\n",
    "mu[0] = 1\n",
    "mu[1:] = 0\n",
    "L = np.empty(map_phase_ref.Ny)\n",
    "L[0] = 1e-1\n",
    "L[1:] = 5e-4\n",
    "map_phase_ref.set_prior(L=L)"
   ]
  },
  {
   "cell_type": "code",
   "execution_count": null,
   "metadata": {},
   "outputs": [],
   "source": [
    "%%time \n",
    "map_phase_ref.set_prior(L=L)\n",
    "map_phase_ref.set_data(flux_obs, C=flux_err**2)\n",
    "x, cho_cov = map_phase_ref.solve(design_matrix=A_phase_ref[:, :ncoeff])"
   ]
  },
  {
   "cell_type": "code",
   "execution_count": null,
   "metadata": {},
   "outputs": [],
   "source": [
    "map_phase_ref.amp = x[0]\n",
    "map_phase_ref[1:, :] = x[1:] / x[0]"
   ]
  },
  {
   "cell_type": "code",
   "execution_count": null,
   "metadata": {},
   "outputs": [],
   "source": [
    "fig, ax = plt.subplots(figsize=(10, 6))\n",
    "\n",
    "plot_mean_map(ax, map_phase_ref, illuminate=False)\n",
    "\n",
    "ax.set_title(\"Phase curves in reflected light\")\n",
    "\n",
    "ax.set_ylabel(\"Lat\")\n",
    "ax.set_yticks([-90, -60, -30, 0, 30, 60, 90])\n",
    "\n",
    "ax.set_xlabel(\"Lon\")\n",
    "ax.set_xticks(np.arange(-180, 210, 30));"
   ]
  },
  {
   "cell_type": "markdown",
   "metadata": {},
   "source": [
    "## Reflected light occultations"
   ]
  },
  {
   "cell_type": "code",
   "execution_count": null,
   "metadata": {},
   "outputs": [],
   "source": [
    "# Load design matrix from a previous notebook\n",
    "A_occ_ref = np.load(\"design_matrix_occ_ref.npy\")\n",
    "np.shape(A_occ_ref)"
   ]
  },
  {
   "cell_type": "code",
   "execution_count": null,
   "metadata": {},
   "outputs": [],
   "source": [
    "# Compute model flux\n",
    "flux = A_occ_ref @ true_map.y\n",
    "\n",
    "# Add some noise\n",
    "flux_err = np.ones(len(flux)) * 1e-2 * np.std(flux)\n",
    "flux_obs = flux + np.random.normal(0, flux_err, size=(len(flux)))\n",
    "\n",
    "fig, ax = plt.subplots(2, 1, sharex=True)\n",
    "ax[0].plot(flux, \"k.\")\n",
    "ax[1].plot(flux_obs, \"k.\")"
   ]
  },
  {
   "cell_type": "code",
   "execution_count": null,
   "metadata": {},
   "outputs": [],
   "source": [
    "# Priors\n",
    "ydeg = 8\n",
    "map_occ_ref = starry.Map(ydeg, reflected=True)\n",
    "ncoeff = int((ydeg + 1) ** 2)\n",
    "\n",
    "mu = np.empty(map_occ_ref.Ny)\n",
    "mu[0] = 1\n",
    "mu[1:] = 0\n",
    "L = np.empty(map_occ_ref.Ny)\n",
    "L[0] = 1e-1\n",
    "L[1:] = 5e-4\n",
    "map_occ_ref.set_prior(L=L)"
   ]
  },
  {
   "cell_type": "code",
   "execution_count": null,
   "metadata": {},
   "outputs": [],
   "source": [
    "%%time \n",
    "map_occ_ref.set_prior(L=L)\n",
    "map_occ_ref.set_data(flux_obs, C=flux_err**2)\n",
    "x, cho_cov = map_occ_ref.solve(design_matrix=A_occ_ref[:, :ncoeff])"
   ]
  },
  {
   "cell_type": "code",
   "execution_count": null,
   "metadata": {},
   "outputs": [],
   "source": [
    "map_occ_ref.amp = x[0]\n",
    "map_occ_ref[1:, :] = x[1:] / x[0]"
   ]
  },
  {
   "cell_type": "code",
   "execution_count": null,
   "metadata": {},
   "outputs": [],
   "source": [
    "fig, ax = plt.subplots(figsize=(10, 6))\n",
    "\n",
    "plot_mean_map(ax, map_occ_ref, illuminate=False)\n",
    "\n",
    "ax.set_title(\"Occultations in reflected light\")\n",
    "\n",
    "ax.set_ylabel(\"Lat\")\n",
    "ax.set_yticks([-90, -60, -30, 0, 30, 60, 90])\n",
    "\n",
    "ax.set_xlabel(\"Lon\")\n",
    "ax.set_xticks(np.arange(-180, 210, 30));"
   ]
  },
  {
   "cell_type": "code",
   "execution_count": null,
   "metadata": {},
   "outputs": [],
   "source": [
    "# Plot true map\n",
    "fig, ax = plt.subplots()\n",
    "img = true_map.render(projection=\"rect\", illuminate=False)\n",
    "extent = (-180, 180, -90, 90)\n",
    "ax.imshow(img, origin=\"lower\", extent=extent, cmap=\"plasma\")\n",
    "\n",
    "ax.set_yticks([-90, -60, -30, 0, 30, 60, 90])\n",
    "ax.set_xticks(np.arange(-180, 240, 60))\n",
    "ax.set_title(\"True map\")"
   ]
  },
  {
   "cell_type": "code",
   "execution_count": null,
   "metadata": {},
   "outputs": [],
   "source": [
    "fig, ax = plt.subplots(2, 2, figsize=(12, 6))\n",
    "fig.subplots_adjust(hspace=0.4, wspace=0.005)\n",
    "\n",
    "plot_mean_map(ax[0, 0], map_phase_em)\n",
    "plot_mean_map(ax[1, 0], map_occ_em)\n",
    "plot_mean_map(ax[0, 1], map_phase_ref, illuminate=False)\n",
    "plot_mean_map(ax[1, 1], map_occ_ref, illuminate=False)\n",
    "\n",
    "ax[0, 0].set_title(\"Phase curves in emitted light\")\n",
    "ax[0, 1].set_title(\"Phase curves in reflected light\")\n",
    "ax[1, 0].set_title(\"Occultations in emitted light\")\n",
    "ax[1, 1].set_title(\"Occultations  in reflected light\")\n",
    "\n",
    "for a in ax[:, 1]:\n",
    "    a.set_yticks([])\n",
    "for a in ax[:, 0]:\n",
    "    a.set_yticks([-90, -60, -30, 0, 30, 60, 90])\n",
    "    a.set_ylabel(\"Latitude [deg]\")\n",
    "for a in ax[1, :]:\n",
    "    a.set_xlabel(\"Longitude [deg]\")\n",
    "\n",
    "\n",
    "for i, s in enumerate(spot_longs):\n",
    "    if s > 180:\n",
    "        spot_longs[i] = -(360 - s)\n",
    "\n",
    "for a in ax.flatten():\n",
    "    a.set_xticks(np.arange(-180, 240, 60))\n",
    "    for i in range(len(spot_lats)):\n",
    "        a.scatter(spot_longs[i], spot_lats[i], color=\"black\", marker=\"x\", alpha=0.3)"
   ]
  },
  {
   "cell_type": "markdown",
   "metadata": {},
   "source": [
    "## Mutual occultations\n"
   ]
  },
  {
   "cell_type": "code",
   "execution_count": null,
   "metadata": {},
   "outputs": [],
   "source": [
    "# Load design matrix from a previous notebook\n",
    "A_occ_ref_mut = np.load(\"design_matrix_mutual_ref.npy\")\n",
    "np.shape(A_occ_ref_mut)"
   ]
  },
  {
   "cell_type": "code",
   "execution_count": null,
   "metadata": {},
   "outputs": [],
   "source": [
    "# Compute model flux\n",
    "flux = A_occ_ref_mut @ true_map.y\n",
    "\n",
    "# Add some noise\n",
    "flux_err = np.ones(len(flux)) * 1e-2 * np.std(flux)\n",
    "flux_obs = flux + np.random.normal(0, flux_err, size=(len(flux)))\n",
    "\n",
    "fig, ax = plt.subplots(2, 1, sharex=True)\n",
    "ax[0].plot(flux, \"k.\")\n",
    "ax[1].plot(flux_obs, \"k.\")"
   ]
  },
  {
   "cell_type": "code",
   "execution_count": null,
   "metadata": {},
   "outputs": [],
   "source": [
    "# Priors\n",
    "ydeg = 8\n",
    "map_occ_ref_mut = starry.Map(ydeg, reflected=True)\n",
    "ncoeff = int((ydeg + 1) ** 2)\n",
    "\n",
    "mu = np.empty(map_occ_ref_mut.Ny)\n",
    "mu[0] = 1\n",
    "mu[1:] = 0\n",
    "L = np.empty(map_occ_ref_mut.Ny)\n",
    "L[0] = 1e-1\n",
    "L[1:] = 5e-4\n",
    "map_occ_ref.set_prior(L=L)"
   ]
  },
  {
   "cell_type": "code",
   "execution_count": null,
   "metadata": {},
   "outputs": [],
   "source": [
    "%%time \n",
    "map_occ_ref_mut.set_prior(L=L)\n",
    "map_occ_ref_mut.set_data(flux_obs, C=flux_err**2)\n",
    "x, cho_cov = map_occ_ref_mut.solve(design_matrix=A_occ_ref_mut[:, :ncoeff])"
   ]
  },
  {
   "cell_type": "code",
   "execution_count": null,
   "metadata": {},
   "outputs": [],
   "source": [
    "map_occ_ref_mut.amp = x[0]\n",
    "map_occ_ref_mut[1:, :] = x[1:] / x[0]"
   ]
  },
  {
   "cell_type": "code",
   "execution_count": null,
   "metadata": {},
   "outputs": [],
   "source": [
    "fig, ax = plt.subplots(figsize=(10, 6))\n",
    "\n",
    "plot_mean_map(ax, map_occ_ref_mut, illuminate=False)\n",
    "\n",
    "ax.set_title(\"Mutual occultations in reflected light\")\n",
    "\n",
    "ax.set_ylabel(\"Lat\")\n",
    "ax.set_yticks([-90, -60, -30, 0, 30, 60, 90])\n",
    "\n",
    "ax.set_xlabel(\"Lon\")\n",
    "ax.set_xticks(np.arange(-180, 210, 30))\n",
    "for i in range(len(spot_lats)):\n",
    "    ax.scatter(spot_longs[i], spot_lats[i], color=\"black\", marker=\"x\", alpha=0.3)"
   ]
  },
  {
   "cell_type": "code",
   "execution_count": null,
   "metadata": {},
   "outputs": [],
   "source": []
  }
 ],
 "metadata": {
  "kernelspec": {
   "display_name": "Python [conda env:io]",
   "language": "python",
   "name": "conda-env-io-py"
  },
  "language_info": {
   "codemirror_mode": {
    "name": "ipython",
    "version": 3
   },
   "file_extension": ".py",
   "mimetype": "text/x-python",
   "name": "python",
   "nbconvert_exporter": "python",
   "pygments_lexer": "ipython3",
   "version": "3.6.10"
  }
 },
 "nbformat": 4,
 "nbformat_minor": 4
}
